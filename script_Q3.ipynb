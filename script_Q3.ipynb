# Importing the libraries
import numpy as np
import matplotlib.pyplot as plt
import pandas as pd

# Importing the dataset
dataset = pd.read_csv('resale-flat-prices-based-on-registration-date-from-march-2012-onwards.csv')
X = dataset.iloc[90611:,[1,2,5,6,7,8]].values
y = dataset.iloc[90611:, 9].values

# Encoding categorical data
from sklearn.preprocessing import LabelEncoder, OneHotEncoder
labelencoder = LabelEncoder()
X[:,0] = labelencoder.fit_transform(X[:,0])
X[:,1] = labelencoder.fit_transform(X[:,1])
X[:,2] = labelencoder.fit_transform(X[:,2])
X[:,4] = labelencoder.fit_transform(X[:,4])
onehotencoder = OneHotEncoder(categorical_features = [0,1,2,4])
X = onehotencoder.fit_transform(X).toarray()

# Splitting the dataset into the Training set and Test set
from sklearn.cross_validation import train_test_split
X_train, X_test, y_train, y_test = train_test_split(X, y, test_size = 0.2, random_state = 0)

# Fitting Multiple Linear Regression to the Training set
from sklearn.linear_model import LinearRegression
regressor = LinearRegression()
regressor.fit(X_train, y_train)

# Predicting the Test set results
y_pred = regressor.predict(X_test)

# Visualising the results
plt.scatter(X_test[:,65], y_test, color = 'red')
plt.title('Resale price against floor area')
plt.xlabel('Floor area in square metres')
plt.ylabel('Resale price in S$')
plt.show()

plt.scatter(X_test[:,66], y_test, color = 'blue')
plt.title('Truth or Bluff (SVR)')
plt.xlabel('Position level')
plt.ylabel('Salary')
plt.show()

# Building the optimal model using Backward Elimination
import statsmodels.formula.api as sm
X = np.append(arr = np.ones((11489, 1)).astype(int), values = X, axis = 1)
regressor_OLS = sm.OLS(endog = y, exog = X).fit()
regressor_OLS.summary()
