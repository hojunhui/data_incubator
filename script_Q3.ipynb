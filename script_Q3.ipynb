# Import libraries
import pandas as pd
import matplotlib.pyplot as plt
import numpy as np

# Import datasets
drug_uses = pd.read_csv('drug_uses.csv')
spending_2011 = pd.read_csv('spending-2011.csv')
spending_2012 = pd.read_csv('spending-2012.csv')
spending_2013 = pd.read_csv('spending-2013.csv')
spending_2014 = pd.read_csv('spending-2014.csv')
spending_2015 = pd.read_csv('spending-2015.csv')

drug_uses_unique = drug_uses.drop_duplicates(subset = ['drugname_brand','drugname_generic'])
spending_2011_merged = pd.merge(spending_2011, drug_uses_unique[['drugname_brand','drugname_generic','anatomical','therapeutic','pharmacologic','chemical']], on = ['drugname_brand','drugname_generic'], how = 'left')
spending_2012_merged = pd.merge(spending_2012, drug_uses_unique[['drugname_brand','drugname_generic','anatomical','therapeutic','pharmacologic','chemical']], on = ['drugname_brand','drugname_generic'], how = 'left')
spending_2013_merged = pd.merge(spending_2013, drug_uses_unique[['drugname_brand','drugname_generic','anatomical','therapeutic','pharmacologic','chemical']], on = ['drugname_brand','drugname_generic'], how = 'left')
spending_2014_merged = pd.merge(spending_2014, drug_uses_unique[['drugname_brand','drugname_generic','anatomical','therapeutic','pharmacologic','chemical']], on = ['drugname_brand','drugname_generic'], how = 'left')
spending_2015_merged = pd.merge(spending_2015, drug_uses_unique[['drugname_brand','drugname_generic','anatomical','therapeutic','pharmacologic','chemical']], on = ['drugname_brand','drugname_generic'], how = 'left')

temp_2011 = spending_2011_merged.groupby(['anatomical'], as_index = False)
temp2_2011 = temp_2011.sum()
temp_2012 = spending_2012_merged.groupby(['anatomical'], as_index = False)
temp2_2012 = temp_2012.sum()
temp_2013 = spending_2013_merged.groupby(['anatomical'], as_index = False)
temp2_2013 = temp_2013.sum()
temp_2014 = spending_2014_merged.groupby(['anatomical'], as_index = False)
temp2_2014 = temp_2014.sum()
temp_2015 = spending_2015_merged.groupby(['anatomical'], as_index = False)
temp2_2015 = temp_2015.sum()

# Plot trends
# Total Medicare spending according to anatomy in 2015
ax = temp2_2015.plot.bar(x = 'anatomical', y = 'total_spending', title = 'Total Medicare spending according to anatomy in 2015', figsize = (15, 10), legend = False, rot = 90)

# Change in total Medicare spending from 2011 to 2015 for 3 anatomies with top spending in 2015
df = pd.DataFrame({'ALIMENTARY TRACT AND METABOLISM': [4358792704.829999, 5176751710.959999, 6935132292.369999, 8713373976.469995, 10942005030.789993], 'ANTINEOPLASTIC AND IMMUNOMODULATING AGENTS': [4811985140.199999, 6075203253.580001, 8489136883.410002, 10808704018.02, 13627598968.629995], 'NERVOUS SYSTEM': [7582522072.960001, 7366994845.189998, 8520042841.95, 9832728975.85, 10465607008.07]}, index = [2011, 2012, 2013, 2014, 2015])
lines = df.plot.line(title = 'Change in total Medicare spending from 2011 to 2015 for 3 anatomies', figsize = (3, 3))
